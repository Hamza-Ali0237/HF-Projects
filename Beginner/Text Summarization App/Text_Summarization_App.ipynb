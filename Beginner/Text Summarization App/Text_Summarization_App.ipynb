{
  "cells": [
    {
      "cell_type": "markdown",
      "metadata": {
        "id": "view-in-github",
        "colab_type": "text"
      },
      "source": [
        "<a href=\"https://colab.research.google.com/github/Hamza-Ali0237/HF-Projects/blob/main/Beginner/Text%20Summarization%20App/Text_Summarization_App.ipynb\" target=\"_parent\"><img src=\"https://colab.research.google.com/assets/colab-badge.svg\" alt=\"Open In Colab\"/></a>"
      ]
    },
    {
      "cell_type": "code",
      "execution_count": null,
      "id": "4551a7f5",
      "metadata": {
        "id": "4551a7f5"
      },
      "outputs": [],
      "source": [
        "from transformers import pipeline"
      ]
    },
    {
      "cell_type": "code",
      "execution_count": null,
      "id": "1b180b1c",
      "metadata": {
        "id": "1b180b1c"
      },
      "outputs": [],
      "source": [
        "summarizer = pipeline(\n",
        "    task = \"summarization\",\n",
        "    model = \"facebook/bart-large-cnn\",\n",
        "    device = 0\n",
        ")"
      ]
    },
    {
      "cell_type": "code",
      "execution_count": null,
      "id": "832f72a4",
      "metadata": {
        "id": "832f72a4"
      },
      "outputs": [],
      "source": [
        "# Sample text\n",
        "text = \"\"\"In the heart of a sprawling metropolis, where steel and glass pierce the sky,\n",
        "          a vibrant energy pulses day and night. Yellow taxis weave through a labyrinth of bustling streets,\n",
        "          their horns adding to the symphony of city life. Street vendors hawk their wares,\n",
        "          their voices rising above the chatter of hurried footsteps. Amidst the towering skyscrapers,\n",
        "          pockets of green offer a respite, where weary souls seek a moment of tranquility. The city never sleeps,\n",
        "          a melting pot of dreams and ambitions, constantly evolving and reaching for the future.\"\"\""
      ]
    },
    {
      "cell_type": "code",
      "execution_count": null,
      "id": "sj3MS-Z9z1YL",
      "metadata": {
        "id": "sj3MS-Z9z1YL"
      },
      "outputs": [],
      "source": [
        "summary = summarizer(text, max_length = 50)"
      ]
    },
    {
      "cell_type": "code",
      "execution_count": null,
      "id": "7u7irVvJz1Vl",
      "metadata": {
        "id": "7u7irVvJz1Vl"
      },
      "outputs": [],
      "source": [
        "print(summary)"
      ]
    },
    {
      "cell_type": "code",
      "execution_count": null,
      "id": "SHAVZAxMz1TP",
      "metadata": {
        "id": "SHAVZAxMz1TP"
      },
      "outputs": [],
      "source": [
        "# Extract exact answer\n",
        "answer = summary[0]['summary_text']\n",
        "print(answer)"
      ]
    },
    {
      "cell_type": "code",
      "execution_count": null,
      "id": "SK5un4TE0enF",
      "metadata": {
        "id": "SK5un4TE0enF"
      },
      "outputs": [],
      "source": [
        "# check on user input\n",
        "user_text = input(\"Enter text to summarize: \")\n",
        "custom_max_length = int(input(\"Enter max length: \"))\n",
        "custom_summary = summarizer(user_text, max_length = custom_max_length)"
      ]
    },
    {
      "cell_type": "code",
      "execution_count": null,
      "id": "rD_mCIzc1d66",
      "metadata": {
        "id": "rD_mCIzc1d66"
      },
      "outputs": [],
      "source": [
        "print(custom_summary[0]['summary_text'])"
      ]
    },
    {
      "cell_type": "code",
      "execution_count": null,
      "id": "W11duvlj17Hu",
      "metadata": {
        "id": "W11duvlj17Hu"
      },
      "outputs": [],
      "source": [
        "# Saving model for later use\n",
        "\n",
        "# Extract model\n",
        "model = summarizer.model\n",
        "# Extract tokenizer\n",
        "tokenizer = summarizer.tokenizer\n",
        "\n",
        "# Save both to a directory\n",
        "save_directory = \"saved_summarizer_model\"\n",
        "model.save_pretrained(save_directory)\n",
        "tokenizer.save_pretrained(save_directory)"
      ]
    },
    {
      "cell_type": "markdown",
      "source": [
        "# Gradio UI"
      ],
      "metadata": {
        "id": "QPyeoVvIyJ0q"
      },
      "id": "QPyeoVvIyJ0q"
    },
    {
      "cell_type": "code",
      "source": [
        "!pip install gradio"
      ],
      "metadata": {
        "id": "BNUK4Gw8zEMS"
      },
      "id": "BNUK4Gw8zEMS",
      "execution_count": null,
      "outputs": []
    },
    {
      "cell_type": "code",
      "execution_count": null,
      "id": "dsWveaVz256K",
      "metadata": {
        "id": "dsWveaVz256K"
      },
      "outputs": [],
      "source": [
        "from transformers import AutoModelForSeq2SeqLM, AutoTokenizer\n",
        "import gradio as gr"
      ]
    },
    {
      "cell_type": "code",
      "source": [
        "# Load the saved model and tokenizer\n",
        "model_path = \"saved_summarizer_model\"\n",
        "model = AutoModelForSeq2SeqLM.from_pretrained(model_path)\n",
        "tokenizer = AutoTokenizer.from_pretrained(model_path)"
      ],
      "metadata": {
        "id": "uUpzv330ydC9"
      },
      "id": "uUpzv330ydC9",
      "execution_count": null,
      "outputs": []
    },
    {
      "cell_type": "code",
      "source": [
        "# recreate pipeline\n",
        "summarizer = pipeline(\n",
        "    task = \"summarization\",\n",
        "    model = model,\n",
        "    tokenizer = tokenizer,\n",
        "    device = 0\n",
        ")"
      ],
      "metadata": {
        "id": "GzlJzbF7yc_k"
      },
      "id": "GzlJzbF7yc_k",
      "execution_count": null,
      "outputs": []
    },
    {
      "cell_type": "code",
      "source": [
        "# Define the Gradio interface function\n",
        "def summarize_text(text, max_length=100):\n",
        "  summary = summarizer(text, max_length = max_length, min_length=25, do_sample = False)\n",
        "  return summary[0]['summary_text']\n",
        "\n",
        "# Gradio UI\n",
        "demo = gr.Interface(\n",
        "    fn = summarize_text,\n",
        "    inputs = [\n",
        "        gr.Textbox(label=\"Enter Text to Summarize\", lines=10, placeholder=\"Paste a long paragraph here...\"),\n",
        "        gr.Slider(30, 200, value=100, step=10, label=\"Max Summary Length\")\n",
        "    ],\n",
        "    outputs = gr.Textbox(label=\"Summary\"),\n",
        "    title = \"Text Summarization\",\n",
        "    description = \"Enter a long paragraph and get a concise summary.\"\n",
        ")\n",
        "\n",
        "demo.launch()"
      ],
      "metadata": {
        "id": "xZm0UihByc8t"
      },
      "id": "xZm0UihByc8t",
      "execution_count": null,
      "outputs": []
    },
    {
      "cell_type": "code",
      "source": [],
      "metadata": {
        "id": "1OummomEyc6G"
      },
      "id": "1OummomEyc6G",
      "execution_count": null,
      "outputs": []
    }
  ],
  "metadata": {
    "accelerator": "GPU",
    "colab": {
      "gpuType": "T4",
      "provenance": [],
      "include_colab_link": true
    },
    "kernelspec": {
      "display_name": "Python 3 (ipykernel)",
      "language": "python",
      "name": "python3"
    },
    "language_info": {
      "codemirror_mode": {
        "name": "ipython",
        "version": 3
      },
      "file_extension": ".py",
      "mimetype": "text/x-python",
      "name": "python",
      "nbconvert_exporter": "python",
      "pygments_lexer": "ipython3",
      "version": "3.10.2"
    }
  },
  "nbformat": 4,
  "nbformat_minor": 5
}