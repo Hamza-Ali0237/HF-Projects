{
  "cells": [
    {
      "cell_type": "markdown",
      "metadata": {
        "id": "view-in-github",
        "colab_type": "text"
      },
      "source": [
        "<a href=\"https://colab.research.google.com/github/Hamza-Ali0237/HF-Projects/blob/main/Beginner/Language%20Translation%20App/Language_Translation_App.ipynb\" target=\"_parent\"><img src=\"https://colab.research.google.com/assets/colab-badge.svg\" alt=\"Open In Colab\"/></a>"
      ]
    },
    {
      "cell_type": "code",
      "execution_count": null,
      "id": "deecf1eb",
      "metadata": {
        "id": "deecf1eb"
      },
      "outputs": [],
      "source": [
        "from transformers import pipeline, AutoTokenizer, AutoModelForSeq2SeqLM"
      ]
    },
    {
      "cell_type": "code",
      "execution_count": null,
      "metadata": {
        "id": "zY2pPXafJBVN"
      },
      "outputs": [],
      "source": [
        "model_name = \"Helsinki-NLP/opus-mt-en-de\"\n",
        "tokenizer = AutoTokenizer.from_pretrained(model_name)\n",
        "model = AutoModelForSeq2SeqLM.from_pretrained(model_name)\n",
        "\n",
        "translator = pipeline(\n",
        "    task = \"translation\",\n",
        "    model = model,\n",
        "    tokenizer = tokenizer\n",
        ")"
      ],
      "id": "zY2pPXafJBVN"
    },
    {
      "cell_type": "code",
      "execution_count": null,
      "metadata": {
        "id": "2j1SOzYKJBVO"
      },
      "outputs": [],
      "source": [
        "# trying on static data\n",
        "prompt = \"I think I should sleep a little bit\"\n",
        "translation = translator(prompt, max_length = 20)\n",
        "print(translation[0]['translation_text'])"
      ],
      "id": "2j1SOzYKJBVO"
    },
    {
      "cell_type": "markdown",
      "source": [
        "# Gradio UI"
      ],
      "metadata": {
        "id": "mon4yl7ENUA3"
      },
      "id": "mon4yl7ENUA3"
    },
    {
      "cell_type": "code",
      "execution_count": null,
      "metadata": {
        "id": "thDcCorxJBVO"
      },
      "outputs": [],
      "source": [
        "!pip install gradio"
      ],
      "id": "thDcCorxJBVO"
    },
    {
      "cell_type": "code",
      "execution_count": null,
      "metadata": {
        "id": "gMrlcGZMJBVO"
      },
      "outputs": [],
      "source": [
        "import gradio as gr\n",
        "\n",
        "# Define the function for Gradio\n",
        "def translate_en_to_de(text):\n",
        "    result = translator(text, max_length=512)\n",
        "    return result[0][\"translation_text\"]\n",
        "\n",
        "# Create Gradio interface\n",
        "demo = gr.Interface(\n",
        "    fn=translate_en_to_de,\n",
        "    inputs=gr.Textbox(lines=6, placeholder=\"Enter English text here...\", label=\"English Text\"),\n",
        "    outputs=gr.Textbox(label=\"German Translation\"),\n",
        "    title=\"English to German Translator\",\n",
        "    description=\"Uses Helsinki-NLP's Opus-MT model to translate English text into German.\"\n",
        ")\n",
        "\n",
        "# Launch the app\n",
        "demo.launch()"
      ],
      "id": "gMrlcGZMJBVO"
    },
    {
      "cell_type": "code",
      "execution_count": null,
      "id": "1fb0e306",
      "metadata": {
        "id": "1fb0e306"
      },
      "outputs": [],
      "source": []
    }
  ],
  "metadata": {
    "language_info": {
      "name": "python"
    },
    "colab": {
      "provenance": [],
      "gpuType": "T4",
      "include_colab_link": true
    },
    "accelerator": "GPU",
    "kernelspec": {
      "name": "python3",
      "display_name": "Python 3"
    }
  },
  "nbformat": 4,
  "nbformat_minor": 5
}