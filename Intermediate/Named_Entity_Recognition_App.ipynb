{
  "cells": [
    {
      "cell_type": "markdown",
      "metadata": {
        "id": "view-in-github",
        "colab_type": "text"
      },
      "source": [
        "<a href=\"https://colab.research.google.com/github/Hamza-Ali0237/HuggingFace-Projects/blob/main/Intermediate/Named_Entity_Recognition_App.ipynb\" target=\"_parent\"><img src=\"https://colab.research.google.com/assets/colab-badge.svg\" alt=\"Open In Colab\"/></a>"
      ]
    },
    {
      "cell_type": "code",
      "execution_count": null,
      "id": "3b74521a",
      "metadata": {
        "id": "3b74521a"
      },
      "outputs": [],
      "source": [
        "# Import Libraries\n",
        "import transformers\n",
        "from transformers import pipeline, AutoTokenizer, AutoModelForTokenClassification\n",
        "import gradio as gr"
      ]
    },
    {
      "cell_type": "code",
      "execution_count": null,
      "metadata": {
        "id": "jI0iiS15TCWw"
      },
      "outputs": [],
      "source": [
        "# Instantiate The Model\n",
        "model_name = \"dbmdz/bert-large-cased-finetuned-conll03-english\"\n",
        "model = AutoModelForTokenClassification.from_pretrained(model_name)\n",
        "tokenizer = AutoTokenizer.from_pretrained(model_name)\n",
        "\n",
        "# Create Pipeline\n",
        "pipeline = pipeline(\n",
        "    task = \"ner\",\n",
        "    model = model,\n",
        "    tokenizer = tokenizer,\n",
        "    aggregation_strategy = \"simple\"\n",
        ")"
      ],
      "id": "jI0iiS15TCWw"
    },
    {
      "cell_type": "code",
      "execution_count": null,
      "metadata": {
        "id": "fIZbK6SGTCWw"
      },
      "outputs": [],
      "source": [
        "# Inference\n",
        "text = \"Apple is looking to buy a startup in the UK for $1 billion. Microsoft also wants to relocate its HQ to Ireland.\"\n",
        "entities = pipeline(text)\n",
        "\n",
        "for entity in entities:\n",
        "   print(f\"{entity['word']} → {entity['entity_group']} ({entity['score']:.2f})\")"
      ],
      "id": "fIZbK6SGTCWw"
    },
    {
      "cell_type": "markdown",
      "source": [
        "I don't see much potential in this project and I don't see myself learning much from it as well. So, I'm not going to spend more time to add more functionalities in it."
      ],
      "metadata": {
        "id": "LYeLld6MWsw3"
      },
      "id": "LYeLld6MWsw3"
    },
    {
      "cell_type": "code",
      "execution_count": null,
      "metadata": {
        "id": "5AxDu2mOTCWw"
      },
      "outputs": [],
      "source": [],
      "id": "5AxDu2mOTCWw"
    },
    {
      "cell_type": "code",
      "execution_count": null,
      "id": "daefa2e4",
      "metadata": {
        "id": "daefa2e4"
      },
      "outputs": [],
      "source": []
    }
  ],
  "metadata": {
    "language_info": {
      "name": "python"
    },
    "colab": {
      "provenance": [],
      "gpuType": "T4",
      "include_colab_link": true
    },
    "kernelspec": {
      "name": "python3",
      "display_name": "Python 3"
    },
    "accelerator": "GPU"
  },
  "nbformat": 4,
  "nbformat_minor": 5
}