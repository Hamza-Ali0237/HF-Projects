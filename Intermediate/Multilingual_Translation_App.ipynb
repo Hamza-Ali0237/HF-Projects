{
  "cells": [
    {
      "cell_type": "markdown",
      "metadata": {
        "id": "view-in-github",
        "colab_type": "text"
      },
      "source": [
        "<a href=\"https://colab.research.google.com/github/Hamza-Ali0237/HuggingFace-Projects/blob/main/Intermediate/Multilingual%20Translation%20App/Multilingual_Translation_App.ipynb\" target=\"_parent\"><img src=\"https://colab.research.google.com/assets/colab-badge.svg\" alt=\"Open In Colab\"/></a>"
      ]
    },
    {
      "cell_type": "code",
      "execution_count": null,
      "id": "d286ba5a",
      "metadata": {
        "id": "d286ba5a"
      },
      "outputs": [],
      "source": [
        "# Import Libraries\n",
        "import transformers\n",
        "from transformers import pipeline, MBartForConditionalGeneration, MBart50TokenizerFast\n",
        "import torch\n",
        "import gradio as gr"
      ]
    },
    {
      "cell_type": "code",
      "execution_count": null,
      "id": "f5d67c7b",
      "metadata": {
        "id": "f5d67c7b"
      },
      "outputs": [],
      "source": [
        "# Instantiate Model & Tokenizer\n",
        "model_name = \"facebook/mbart-large-50-many-to-many-mmt\"\n",
        "\n",
        "model = MBartForConditionalGeneration.from_pretrained(model_name)\n",
        "tokenizer = MBart50TokenizerFast.from_pretrained(model_name)"
      ]
    },
    {
      "cell_type": "code",
      "execution_count": null,
      "id": "c8ba726c",
      "metadata": {
        "id": "c8ba726c"
      },
      "outputs": [],
      "source": [
        "# Translate English To German\n",
        "article_en = \"The quick brown fox jumps over the lazy dog. A new day brings fresh opportunities and challenges. Learn and grow daily.\"\n",
        "\n",
        "tokenizer.src_lang = \"en_XX\"\n",
        "encoded_en = tokenizer(article_en, return_tensors = 'pt')\n",
        "\n",
        "generated_tokens = model.generate(\n",
        "    **encoded_en,\n",
        "    forced_bos_token_id = tokenizer.lang_code_to_id[\"de_DE\"]\n",
        ")\n",
        "\n",
        "output = tokenizer.batch_decode(generated_tokens, skip_special_tokens = True)\n",
        "\n",
        "print(f'''Original Sentence (English): \"{article_en}\"\\nTranslated Sentence (German): \"{output[0]}\"''')"
      ]
    },
    {
      "cell_type": "markdown",
      "source": [
        "# Testin On User Input"
      ],
      "metadata": {
        "id": "PZNbgExhEZy9"
      },
      "id": "PZNbgExhEZy9"
    },
    {
      "cell_type": "code",
      "source": [
        "# Dictionary Of Available Languages\n",
        "languages = {\n",
        "    \"arabic\": \"ar_AR\",\n",
        "    \"czech\": \"cs_CZ\",\n",
        "    \"german\": \"de_DE\",\n",
        "    \"english\": \"en_XX\",\n",
        "    \"spanish\": \"es_XX\",\n",
        "    \"estonian\": \"et_EE\",\n",
        "    \"finnish\": \"fi_FI\",\n",
        "    \"french\": \"fr_XX\",\n",
        "    \"gujarati\": \"gu_IN\",\n",
        "    \"hindi\": \"hi_IN\",\n",
        "    \"italian\": \"it_IT\",\n",
        "    \"japanese\": \"ja_XX\",\n",
        "    \"kazakh\": \"kk_KZ\",\n",
        "    \"korean\": \"ko_KR\",\n",
        "    \"lithuanian\": \"lt_LT\",\n",
        "    \"latvian\": \"lv_LV\",\n",
        "    \"burmese\": \"my_MM\",\n",
        "    \"nepali\": \"ne_NP\",\n",
        "    \"dutch\": \"nl_XX\",\n",
        "    \"romanian\": \"ro_RO\",\n",
        "    \"russian\": \"ru_RU\",\n",
        "    \"sinhala\": \"si_LK\",\n",
        "    \"turkish\": \"tr_TR\",\n",
        "    \"vietnamese\": \"vi_VN\",\n",
        "    \"chinese\": \"zh_CN\",\n",
        "    \"afrikaans\": \"af_ZA\",\n",
        "    \"azerbaijani\": \"az_AZ\",\n",
        "    \"bengali\": \"bn_IN\",\n",
        "    \"persian\": \"fa_IR\",\n",
        "    \"hebrew\": \"he_IL\",\n",
        "    \"croatian\": \"hr_HR\",\n",
        "    \"indonesian\": \"id_ID\",\n",
        "    \"georgian\": \"ka_GE\",\n",
        "    \"khmer\": \"km_KH\",\n",
        "    \"macedonian\": \"mk_MK\",\n",
        "    \"malayalam\": \"ml_IN\",\n",
        "    \"mongolian\": \"mn_MN\",\n",
        "    \"marathi\": \"mr_IN\",\n",
        "    \"polish\": \"pl_PL\",\n",
        "    \"pashto\": \"ps_AF\",\n",
        "    \"portuguese\": \"pt_XX\",\n",
        "    \"swedish\": \"sv_SE\",\n",
        "    \"swahili\": \"sw_KE\",\n",
        "    \"tamil\": \"ta_IN\",\n",
        "    \"telugu\": \"te_IN\",\n",
        "    \"thai\": \"th_TH\",\n",
        "    \"tagalog\": \"tl_XX\",\n",
        "    \"ukrainian\": \"uk_UA\",\n",
        "    \"urdu\": \"ur_PK\",\n",
        "    \"xhosa\": \"xh_ZA\",\n",
        "    \"galician\": \"gl_ES\",\n",
        "    \"slovene\": \"sl_SI\"\n",
        "}"
      ],
      "metadata": {
        "id": "HEX3B0kwIyEF"
      },
      "id": "HEX3B0kwIyEF",
      "execution_count": null,
      "outputs": []
    },
    {
      "cell_type": "code",
      "source": [
        "# Function To Extract Language Code\n",
        "def extract_lang_id(lang: str) -> str:\n",
        "  lang = lang.lower()\n",
        "  lang_code = languages.get(lang)\n",
        "  return lang_code"
      ],
      "metadata": {
        "id": "XOgE6DGDI6Om"
      },
      "id": "XOgE6DGDI6Om",
      "execution_count": null,
      "outputs": []
    },
    {
      "cell_type": "code",
      "source": [
        "# Modularize The Functionality For Re-usability\n",
        "def translate_article(article: str, source_lang: str, target_lang: str) -> str:\n",
        "  source_lang_code = extract_lang_id(source_lang)\n",
        "  target_lang_code = extract_lang_id(target_lang)\n",
        "\n",
        "  if source_lang_code is None:\n",
        "    raise ValueError(f\"Source Language '{source_lang}' is not supported.\")\n",
        "\n",
        "  if target_lang_code is None:\n",
        "    raise ValueError(f\"Target Language '{target_lang}' is not supported.\")\n",
        "\n",
        "  tokenizer.src_lang = source_lang_code\n",
        "  encoded_article = tokenizer(article, return_tensors = \"pt\")\n",
        "\n",
        "  generated_tokens = model.generate(\n",
        "      **encoded_article,\n",
        "      forced_bos_token_id = tokenizer.lang_code_to_id[target_lang_code]\n",
        "  )\n",
        "\n",
        "  output = tokenizer.batch_decode(generated_tokens, skip_special_tokens = True)\n",
        "\n",
        "  return output[0]"
      ],
      "metadata": {
        "id": "EA1EKY6TD1Jv"
      },
      "id": "EA1EKY6TD1Jv",
      "execution_count": null,
      "outputs": []
    },
    {
      "cell_type": "code",
      "source": [
        "article = input(\"Enter Text For Translation: \")\n",
        "source_lang = input(\"Enter Source Language: \")\n",
        "target_lang = input(\"Enter Target Language: \")\n",
        "\n",
        "output = translate_article(article, source_lang, target_lang)\n",
        "\n",
        "print(f'Original Sentence {source_lang}: \"{article}\"\\nTranslated Sentence {target_lang}: \"{output}\"')"
      ],
      "metadata": {
        "id": "v9KVPzweGFEN"
      },
      "id": "v9KVPzweGFEN",
      "execution_count": null,
      "outputs": []
    },
    {
      "cell_type": "markdown",
      "source": [
        "# Gradio UI"
      ],
      "metadata": {
        "id": "wRKvqSyQS8lh"
      },
      "id": "wRKvqSyQS8lh"
    },
    {
      "cell_type": "code",
      "source": [
        "def gradio_translate(article, source_lang, target_lang):\n",
        "    return translate_article(article, source_lang, target_lang)"
      ],
      "metadata": {
        "id": "GVGfdm-eTwCe"
      },
      "id": "GVGfdm-eTwCe",
      "execution_count": null,
      "outputs": []
    },
    {
      "cell_type": "code",
      "source": [
        "gr.Interface(\n",
        "    fn=gradio_translate,\n",
        "    inputs=[\n",
        "        gr.Textbox(lines=5, label=\"Enter Text for Translation\"),\n",
        "        gr.Dropdown(choices=list(languages.keys()), label=\"Source Language\"),\n",
        "        gr.Dropdown(choices=list(languages.keys()), label=\"Target Language\")\n",
        "    ],\n",
        "    outputs=gr.Textbox(label=\"Translated Text\"),\n",
        "    title=\"Multilingual Translator\",\n",
        "    description=\"Translate text between 50+ languages using MBart.\"\n",
        ").launch()"
      ],
      "metadata": {
        "id": "LSdJFBDvLar-"
      },
      "id": "LSdJFBDvLar-",
      "execution_count": null,
      "outputs": []
    },
    {
      "cell_type": "code",
      "source": [],
      "metadata": {
        "id": "Jls3deW2U_sw"
      },
      "id": "Jls3deW2U_sw",
      "execution_count": null,
      "outputs": []
    }
  ],
  "metadata": {
    "language_info": {
      "name": "python"
    },
    "colab": {
      "provenance": [],
      "gpuType": "T4",
      "include_colab_link": true
    },
    "accelerator": "GPU",
    "kernelspec": {
      "name": "python3",
      "display_name": "Python 3"
    }
  },
  "nbformat": 4,
  "nbformat_minor": 5
}